{
 "cells": [
  {
   "cell_type": "markdown",
   "metadata": {},
   "source": [
    "## Folia2Conll"
   ]
  },
  {
   "cell_type": "markdown",
   "metadata": {},
   "source": [
    "convertFoliaClass2ConllTag: an intermediate function used to convert folia tags into suitable conll tags (Token-tag).\n",
    "\n",
    "NOTE: 'MISC' tag is not used. "
   ]
  },
  {
   "cell_type": "code",
   "execution_count": 16,
   "metadata": {
    "collapsed": true
   },
   "outputs": [],
   "source": [
    "import re\n",
    "def convertFoliaClass2ConllTag(e):\n",
    "    per = 'I-PER'\n",
    "    loc = 'I-LOC'\n",
    "    org = 'I-ORG'\n",
    "    cls = e.cls\n",
    "    if re.match('^.*Target.*$', e.set):\n",
    "        if cls == 'name':\n",
    "            return per\n",
    "    elif re.match('^.*Organizer.*$', e.set):\n",
    "        if cls == 'name':\n",
    "            return org\n",
    "    if cls == 'loc' or cls == 'place' or cls == 'place_pub':\n",
    "        return loc\n",
    "    if cls == 'pname':\n",
    "        return per\n",
    "    if cls == 'fname':\n",
    "        return org\n",
    "    return 'O'"
   ]
  },
  {
   "cell_type": "markdown",
   "metadata": {},
   "source": [
    "doc2conll: an intermediate function that converts a single folia file to conll."
   ]
  },
  {
   "cell_type": "code",
   "execution_count": 13,
   "metadata": {
    "collapsed": true
   },
   "outputs": [],
   "source": [
    "from pynlpl.formats import folia\n",
    "def doc2conll(fp, sentences, ids, id2token, id2tag, idx, conllfile):\n",
    "\n",
    "    doc = folia.Document(file=fp)\n",
    "    for h, sentence in enumerate(doc.sentences()):\n",
    "        sentence_tokenized = sentence.select(folia.Word)\n",
    "        words_folia = list(sentence_tokenized)\n",
    "        sentence_tokens = []  # sentence as token ids\n",
    "        for word in words_folia:\n",
    "            w_id = word.id\n",
    "            w_text = word.text()\n",
    "            if w_id in ids:\n",
    "                continue\n",
    "            idx = idx + 1\n",
    "            if idx == 16307 and w_text == '<P>':\n",
    "                idx = idx - 1\n",
    "                continue\n",
    "            sentence_tokens.append(w_id)\n",
    "            id2token[w_id] = w_text\n",
    "            id2tag[w_id] = 'O'\n",
    "\n",
    "            ids.append(w_id)\n",
    "\n",
    "            sentences.append(sentence_tokens)\n",
    "        for layer in sentence.select(folia.EntitiesLayer):\n",
    "            for entity in layer.select(folia.Entity):\n",
    "                for word in entity.wrefs():\n",
    "                    word_id = word.id\n",
    "                    conll_tag = convertFoliaClass2ConllTag(entity)\n",
    "                    id2tag[word_id] = conll_tag\n",
    "\n",
    "        for _id in sentence_tokens:\n",
    "            line = id2token[_id] + \" \" + id2tag[_id] + \"\\n\"\n",
    "            conllfile.write(line)\n",
    "\n",
    "        conllfile.write(\"\\n\")"
   ]
  },
  {
   "cell_type": "markdown",
   "metadata": {},
   "source": [
    "folia2conll: accepts a folder of folia docs OR a single folia file. outputs a single conll file."
   ]
  },
  {
   "cell_type": "code",
   "execution_count": 14,
   "metadata": {
    "collapsed": true
   },
   "outputs": [],
   "source": [
    "import os\n",
    "def folia2conll(flpath, opath):\n",
    "    sentences = []  # A sentence is a list of token ids.\n",
    "    ids = []\n",
    "    id2token = {}\n",
    "    id2tag = {}\n",
    "    conll_file = open(opath, 'w')\n",
    "\n",
    "    idx = -1\n",
    "    if os.path.isdir(flpath):\n",
    "        for filename in os.listdir(flpath):\n",
    "            fpath = flpath + '/' + filename\n",
    "            doc2conll(fpath, sentences, ids, id2token, id2tag, idx, conll_file)\n",
    "    else:\n",
    "        doc2conll(flpath, sentences, ids, id2token, id2tag, idx, conll_file)\n",
    "    conll_file.close()\n"
   ]
  },
  {
   "cell_type": "markdown",
   "metadata": {},
   "source": [
    "To run, set the variables below and call folia2conll function."
   ]
  },
  {
   "cell_type": "code",
   "execution_count": 17,
   "metadata": {},
   "outputs": [
    {
     "name": "stdout",
     "output_type": "stream",
     "text": [
      "Folia docs are converted to conll format\n"
     ]
    }
   ],
   "source": [
    "folia_folder = './foliadocs/alladjudicated'\n",
    "folia_file = './foliadocs/alladjudicated/' \\\n",
    "              'https__timesofindia.indiatimes.com_business_india-business_BSNL-Employees-Union-protests-against-disinvestment_articleshow_972751.folia.xml'\n",
    "    \n",
    "outfile = './folia_as_conll_test.txt'\n",
    "\n",
    "folia2conll(folia_folder, outfile)\n",
    "print('Folia docs are converted to conll format')"
   ]
  },
  {
   "cell_type": "markdown",
   "metadata": {},
   "source": [
    "## Read Folia into sentences"
   ]
  },
  {
   "cell_type": "code",
   "execution_count": 32,
   "metadata": {},
   "outputs": [],
   "source": [
    "def readFoliaFileIntoSentences(filepath, ids, outfile):\n",
    "    doc = folia.Document(file=filepath)\n",
    "    for h, sentence in enumerate(doc.sentences()):\n",
    "        sentence_tokenized = sentence.select(folia.Word)\n",
    "        words_folia = list(sentence_tokenized)\n",
    "        for word in words_folia:\n",
    "            w_id = word.id\n",
    "            w_text = word.text()\n",
    "            if w_id in ids:\n",
    "                continue\n",
    "            ids.append(w_id)\n",
    "            if w_text == '<P>':\n",
    "                continue\n",
    "            outfile.write(w_text + ' ')\n",
    "        outfile.write('\\n\\n')\n",
    "            "
   ]
  },
  {
   "cell_type": "code",
   "execution_count": 33,
   "metadata": {
    "collapsed": true
   },
   "outputs": [],
   "source": [
    "def readFoliaIntoSentences(path, outfile):\n",
    "    ids = []\n",
    "    if os.path.isdir(path):\n",
    "        for filename in os.listdir(path):\n",
    "            filepath = path + '/' + filename\n",
    "            readFoliaFileIntoSentences(filepath, ids, outfile)\n",
    "    else:\n",
    "        readFoliaFileIntoSentences(path, ids, outfile)"
   ]
  },
  {
   "cell_type": "code",
   "execution_count": null,
   "metadata": {},
   "outputs": [],
   "source": [
    "folia_folder = './foliadocs/alladjudicated'\n",
    "folia_file = './foliadocs/alladjudicated/' \\\n",
    "              'https__timesofindia.indiatimes.com_business_india-business_BSNL-Employees-Union-protests-against-disinvestment_articleshow_972751.folia.xml'\n",
    "\n",
    "outfilepath = './folia_as_sentences.txt'\n",
    "outfile = open(outfilepath, 'w')\n",
    "readFoliaIntoSentences(folia_folder, outfile)\n",
    "print('Folia docs are converted to sentences.')"
   ]
  },
  {
   "cell_type": "code",
   "execution_count": null,
   "metadata": {
    "collapsed": true
   },
   "outputs": [],
   "source": []
  }
 ],
 "metadata": {
  "kernelspec": {
   "display_name": "Python 3",
   "language": "python",
   "name": "python3"
  },
  "language_info": {
   "codemirror_mode": {
    "name": "ipython",
    "version": 3
   },
   "file_extension": ".py",
   "mimetype": "text/x-python",
   "name": "python",
   "nbconvert_exporter": "python",
   "pygments_lexer": "ipython3",
   "version": "3.6.3"
  }
 },
 "nbformat": 4,
 "nbformat_minor": 2
}
