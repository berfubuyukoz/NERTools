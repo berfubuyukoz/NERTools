{
 "cells": [
  {
   "cell_type": "markdown",
   "metadata": {},
   "source": [
    "## Tool3: Spacy"
   ]
  },
  {
   "cell_type": "code",
   "execution_count": 1,
   "metadata": {
    "collapsed": true
   },
   "outputs": [],
   "source": [
    "import spacy\n",
    "from spacy.pipeline import EntityRecognizer"
   ]
  },
  {
   "cell_type": "markdown",
   "metadata": {},
   "source": [
    "### For spacy to recognize the model, you need to put it under spacy/data. (For details please read README of the repo)"
   ]
  },
  {
   "cell_type": "code",
   "execution_count": 2,
   "metadata": {
    "collapsed": true
   },
   "outputs": [],
   "source": [
    "# model = 'en_core_web_sm'\n",
    "model = 'xx_ent_wiki_sm'\n",
    "nerpath = '/home/berfu/anaconda/lib/python3.6/site-packages/spacy/data/xx_ent_wiki_sm/xx_ent_wiki_sm-2.0.0/ner'\n"
   ]
  },
  {
   "cell_type": "markdown",
   "metadata": {},
   "source": [
    "### Configure input and output file:"
   ]
  },
  {
   "cell_type": "code",
   "execution_count": 14,
   "metadata": {
    "collapsed": true
   },
   "outputs": [],
   "source": [
    "inputfile = 'conll-testb.txt'\n",
    "outfile = 'spacy_eval.txt'"
   ]
  },
  {
   "cell_type": "markdown",
   "metadata": {},
   "source": [
    "### Load the pretrained spacy model:"
   ]
  },
  {
   "cell_type": "code",
   "execution_count": 4,
   "metadata": {},
   "outputs": [
    {
     "data": {
      "text/plain": [
       "<spacy.pipeline.EntityRecognizer at 0x7f633603e308>"
      ]
     },
     "execution_count": 4,
     "metadata": {},
     "output_type": "execute_result"
    }
   ],
   "source": [
    "nlp = spacy.load(model)\n",
    "ner = EntityRecognizer(nlp.vocab)\n",
    "ner.from_disk(nerpath)"
   ]
  },
  {
   "cell_type": "markdown",
   "metadata": {},
   "source": [
    "### Read input to sentences, tokens, and tags:"
   ]
  },
  {
   "cell_type": "code",
   "execution_count": 5,
   "metadata": {
    "collapsed": true
   },
   "outputs": [],
   "source": [
    "def conll2sentences(testfile):\n",
    "    with open(testfile, 'r') as f:\n",
    "        lines = []\n",
    "        sentences = [[]]\n",
    "        for line in f:\n",
    "            if line != '\\n':\n",
    "                sentences[-1].append(line.split(None, 1)[0])\n",
    "                lines.append(line.split())\n",
    "            else:\n",
    "                sentences.append([])\n",
    "    all_tokens = [line[0] for line in lines]\n",
    "    actual_tags = [line[-1] for line in lines]\n",
    "    return [sentences, all_tokens, actual_tags]"
   ]
  },
  {
   "cell_type": "code",
   "execution_count": 6,
   "metadata": {},
   "outputs": [],
   "source": [
    "[sentences, all_tokens, actual_tags] = conll2sentences(inputfile)"
   ]
  },
  {
   "cell_type": "markdown",
   "metadata": {},
   "source": [
    "### Spacy has a tokenizer but if you do not want to use spacy's tokenizer it's OK. You can give spacy already tokenized input. Then let spacy apply the process you want (here, ner):"
   ]
  },
  {
   "cell_type": "code",
   "execution_count": 7,
   "metadata": {},
   "outputs": [
    {
     "name": "stdout",
     "output_type": "stream",
     "text": [
      "NER operation ended.\n"
     ]
    }
   ],
   "source": [
    "result = []\n",
    "for sentence in sentences:\n",
    "    doc = spacy.tokens.doc.Doc(nlp.vocab, words=sentence)\n",
    "\n",
    "    # run ner against every sentence\n",
    "    processed = ner(doc)\n",
    "    for token in processed:\n",
    "        result.append([token.text, token.ent_type_])\n",
    "        \n",
    "print('NER operation ended.')"
   ]
  },
  {
   "cell_type": "markdown",
   "metadata": {},
   "source": [
    "### Spacy output tags are of conll raw tag format. Convert actual tags to that format as well:"
   ]
  },
  {
   "cell_type": "code",
   "execution_count": 8,
   "metadata": {
    "collapsed": true
   },
   "outputs": [],
   "source": [
    "def conll2raw(tags):\n",
    "    raw_tags = []\n",
    "    for tag in tags:\n",
    "        raw_tag = tag\n",
    "        t = tag.split('-')\n",
    "        if len(t) > 1: raw_tag = t[1]\n",
    "        raw_tags.append(raw_tag)\n",
    "    return raw_tags"
   ]
  },
  {
   "cell_type": "code",
   "execution_count": 9,
   "metadata": {
    "collapsed": true
   },
   "outputs": [],
   "source": [
    "pred_tags = [t[1] for t in result]\n",
    "pred_tags_edited = ['O' if x == '' else x for x in pred_tags]\n",
    "actual_tags_edited = conll2raw(actual_tags)"
   ]
  },
  {
   "cell_type": "markdown",
   "metadata": {},
   "source": [
    "### Create input file to conlleval script, then run the script. the input is a file on each line containing **token actual-tag predicted-tag**."
   ]
  },
  {
   "cell_type": "code",
   "execution_count": 10,
   "metadata": {
    "collapsed": true
   },
   "outputs": [],
   "source": [
    "def createconllevalinputfile(sentences, actual_tags, pred_tags):\n",
    "    conlleval_inputfile_name = 'conlleval_input'\n",
    "    result_file = open(conlleval_inputfile_name, 'w')\n",
    "    idx = -1\n",
    "    for sentence in sentences:\n",
    "        for word in sentence:\n",
    "            idx = idx + 1\n",
    "            result_file.write(word + ' ' + actual_tags[idx] + ' ' + pred_tags[idx] + '\\n')\n",
    "        result_file.write('\\n')\n",
    "    result_file.close()\n",
    "    return conlleval_inputfile_name"
   ]
  },
  {
   "cell_type": "code",
   "execution_count": 11,
   "metadata": {
    "collapsed": true
   },
   "outputs": [],
   "source": [
    "import sys\n",
    "import os\n",
    "\n",
    "def runconlleval(infile, outfile):\n",
    "    python_path = sys.executable\n",
    "    os.system(python_path + ' conlleval.py -r < ' + infile + ' > ' + outfile)\n",
    "    print('Please see the scores wrt conlleval script in the file: ' + outfile + '\\n')"
   ]
  },
  {
   "cell_type": "code",
   "execution_count": 15,
   "metadata": {},
   "outputs": [
    {
     "name": "stdout",
     "output_type": "stream",
     "text": [
      "Please see the scores wrt conlleval script in the file: spacy_eval.txt\n",
      "\n"
     ]
    }
   ],
   "source": [
    "conlleval_inputfile_name = createconllevalinputfile(sentences, actual_tags_edited, pred_tags_edited)\n",
    "runconlleval(conlleval_inputfile_name, outfile)"
   ]
  },
  {
   "cell_type": "code",
   "execution_count": null,
   "metadata": {
    "collapsed": true
   },
   "outputs": [],
   "source": []
  }
 ],
 "metadata": {
  "kernelspec": {
   "display_name": "Python 3",
   "language": "python",
   "name": "python3"
  },
  "language_info": {
   "codemirror_mode": {
    "name": "ipython",
    "version": 3
   },
   "file_extension": ".py",
   "mimetype": "text/x-python",
   "name": "python",
   "nbconvert_exporter": "python",
   "pygments_lexer": "ipython3",
   "version": "3.6.3"
  }
 },
 "nbformat": 4,
 "nbformat_minor": 2
}
